{
  "nbformat": 4,
  "nbformat_minor": 0,
  "metadata": {
    "colab": {
      "provenance": [],
      "authorship_tag": "ABX9TyOTusuMFwPrpDGMbtr6zoj4",
      "include_colab_link": true
    },
    "kernelspec": {
      "name": "python3",
      "display_name": "Python 3"
    },
    "language_info": {
      "name": "python"
    }
  },
  "cells": [
    {
      "cell_type": "markdown",
      "metadata": {
        "id": "view-in-github",
        "colab_type": "text"
      },
      "source": [
        "<a href=\"https://colab.research.google.com/github/ramanask/array_impementationh/blob/main/Array_Impementation.ipynb\" target=\"_parent\"><img src=\"https://colab.research.google.com/assets/colab-badge.svg\" alt=\"Open In Colab\"/></a>"
      ]
    },
    {
      "cell_type": "code",
      "execution_count": null,
      "metadata": {
        "colab": {
          "base_uri": "https://localhost:8080/"
        },
        "id": "p45CFpSvg52P",
        "outputId": "dbf37bb2-816d-44ea-868d-537505e3aab7"
      },
      "outputs": [
        {
          "output_type": "stream",
          "name": "stdout",
          "text": [
            "0\n"
          ]
        }
      ],
      "source": [
        "arr=[2,5,1,3,0]\n",
        "arr.sort()\n",
        "a=arr[0]\n",
        "print(a)"
      ]
    },
    {
      "cell_type": "code",
      "source": [
        "arr=[8,10,5,7,9]\n",
        "smallest = arr[0]\n",
        "\n",
        "for i in arr:\n",
        "  if i<=smallest:\n",
        "    smallest=i\n",
        "\n",
        "print(smallest)\n"
      ],
      "metadata": {
        "colab": {
          "base_uri": "https://localhost:8080/"
        },
        "id": "8pi_BQrHinlw",
        "outputId": "dc300741-8d21-4993-cb5c-122a891f92c5"
      },
      "execution_count": null,
      "outputs": [
        {
          "output_type": "stream",
          "name": "stdout",
          "text": [
            "5\n"
          ]
        }
      ]
    },
    {
      "cell_type": "code",
      "source": [
        "import numpy as np\n",
        "arr=[2,5,1,3,0]\n",
        "smallest = np.min(arr)\n",
        "print(smallest)"
      ],
      "metadata": {
        "colab": {
          "base_uri": "https://localhost:8080/"
        },
        "id": "HxwpusIji-NJ",
        "outputId": "9aeffa23-0207-4214-da57-788c96c37508"
      },
      "execution_count": null,
      "outputs": [
        {
          "output_type": "stream",
          "name": "stdout",
          "text": [
            "0\n"
          ]
        }
      ]
    },
    {
      "cell_type": "code",
      "source": [
        "arr=[1,2,4,7,7,5]\n",
        "arr.sort()\n",
        "second_smallest = arr[1]\n",
        "second_laargest = arr[-2]\n",
        "print(second_smallest)\n",
        "print(second_laargest)"
      ],
      "metadata": {
        "colab": {
          "base_uri": "https://localhost:8080/"
        },
        "id": "7DuO-GV0lYGw",
        "outputId": "65b48818-2c45-4e27-ed18-763bdb207c2a"
      },
      "execution_count": null,
      "outputs": [
        {
          "output_type": "stream",
          "name": "stdout",
          "text": [
            "2\n",
            "7\n"
          ]
        }
      ]
    },
    {
      "cell_type": "code",
      "source": [
        "def s_smallest_largest(arr):\n",
        "    if len(arr) < 2:\n",
        "        return -1, -1\n",
        "\n",
        "\n",
        "    arr = list(set(arr))\n",
        "\n",
        "    if len(arr) < 2:\n",
        "        return -1, -1\n",
        "\n",
        "\n",
        "    arr.sort()\n",
        "\n",
        "\n",
        "    second_smallest = arr[1]\n",
        "\n",
        "\n",
        "    second_largest = arr[-2]\n",
        "\n",
        "    return second_smallest, second_largest\n",
        "\n",
        "arr = [1]\n",
        "second_smallest, second_largest = s_smallest_largest(arr)\n",
        "\n",
        "print(\"Second smallest:\", second_smallest)\n",
        "print(\"Second largest:\", second_largest)\n"
      ],
      "metadata": {
        "colab": {
          "base_uri": "https://localhost:8080/"
        },
        "id": "F482d_WBm4Kd",
        "outputId": "3e976856-b43b-410e-87ee-586069f67984"
      },
      "execution_count": null,
      "outputs": [
        {
          "output_type": "stream",
          "name": "stdout",
          "text": [
            "Second smallest: -1\n",
            "Second largest: -1\n"
          ]
        }
      ]
    },
    {
      "cell_type": "code",
      "source": [
        "def element_count():\n",
        "  element_count={}\n",
        "  for i in arr:\n",
        "    if i in element_count:\n",
        "      element_count[i]+=1\n",
        "    else:\n",
        "      element_count[i]=1\n",
        "  return element_count\n",
        "arr=[2,2,3,4,4,2]\n",
        "result=element_count()\n",
        "print(result)"
      ],
      "metadata": {
        "colab": {
          "base_uri": "https://localhost:8080/"
        },
        "id": "k1mZ84LtzAP2",
        "outputId": "6f9d57e9-0e75-4eac-c919-70a24e0e0927"
      },
      "execution_count": null,
      "outputs": [
        {
          "output_type": "stream",
          "name": "stdout",
          "text": [
            "{2: 3, 3: 1, 4: 2}\n"
          ]
        }
      ]
    },
    {
      "cell_type": "code",
      "source": [
        "import numpy as np\n",
        "\n",
        "def kth_largest(arr, k):\n",
        "    unique_arr = np.unique(arr)\n",
        "    sorted_arr = sorted(unique_arr, reverse=True)\n",
        "    if k <= len(sorted_arr):\n",
        "        return sorted_arr[k - 1]\n",
        "    else:\n",
        "        return None\n",
        "\n",
        "arr = [2, 2, 3, 4, 4, 2]\n",
        "k = 2\n",
        "result = kth_largest(arr, k)\n",
        "print(result)\n"
      ],
      "metadata": {
        "colab": {
          "base_uri": "https://localhost:8080/"
        },
        "id": "9Y3Wlq2i2sXM",
        "outputId": "50632292-4fb7-4a4f-8473-7e5013b74c7a"
      },
      "execution_count": null,
      "outputs": [
        {
          "output_type": "stream",
          "name": "stdout",
          "text": [
            "3\n"
          ]
        }
      ]
    }
  ]
}